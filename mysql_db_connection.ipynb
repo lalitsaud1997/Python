{
 "cells": [
  {
   "cell_type": "code",
   "execution_count": 2,
   "metadata": {},
   "outputs": [],
   "source": [
    "import mysql.connector \n",
    "#importing database\n",
    "database = mysql.connector.connect(\n",
    "    host=\"localhost\",\n",
    "    user=\"root\",\n",
    "    password=\"\",\n",
    "  database = \"class3_pm\"\n",
    ")\n",
    "db = database.cursor()"
   ]
  },
  {
   "cell_type": "code",
   "execution_count": 4,
   "metadata": {},
   "outputs": [
    {
     "name": "stdout",
     "output_type": "stream",
     "text": [
      "(1, 'Ram', 'Kathmandu', '986744567', 1)\n",
      "(2, 'Shyam', 'Dang', '9845443432', 2)\n",
      "(3, 'Shyam', 'Dang', '9845443432', 2)\n",
      "(4, 'nabin', 'Pokhara', '986744533', 2)\n",
      "(5, 'Sabin', 'Dhading', '986744532', 3)\n"
     ]
    }
   ],
   "source": [
    "db.execute(\"SELECT * FROM profile\")\n",
    "result =db.fetchall()\n",
    "for x in result:\n",
    "    print(x)\n"
   ]
  },
  {
   "cell_type": "code",
   "execution_count": 11,
   "metadata": {},
   "outputs": [
    {
     "name": "stdout",
     "output_type": "stream",
     "text": [
      "('Ram Prasad',)\n",
      "('Sabin',)\n",
      "('Hari',)\n",
      "('Krishna',)\n"
     ]
    }
   ],
   "source": [
    "db.execute(\"SELECT name FROM profile\")\n",
    "result =db.fetchall()\n",
    "for x in result:\n",
    "    print(x)\n"
   ]
  },
  {
   "cell_type": "code",
   "execution_count": 5,
   "metadata": {},
   "outputs": [
    {
     "name": "stdout",
     "output_type": "stream",
     "text": [
      "(2, 'Shyam', 'Dang', '9845443432', 2)\n",
      "(3, 'Shyam', 'Dang', '9845443432', 2)\n",
      "(4, 'nabin', 'Pokhara', '986744533', 2)\n"
     ]
    }
   ],
   "source": [
    "db.execute(\"SELECT * FROM profile WHERE class = 2\")\n",
    "result =db.fetchall()\n",
    "for x in result:\n",
    "    print(x)\n"
   ]
  },
  {
   "cell_type": "code",
   "execution_count": 10,
   "metadata": {},
   "outputs": [
    {
     "name": "stdout",
     "output_type": "stream",
     "text": [
      "(2, 'Shyam', 'Dang', '9845443432', 2)\n",
      "(3, 'Shyam', 'Dang', '9845443432', 2)\n"
     ]
    }
   ],
   "source": [
    "db.execute(\"SELECT * FROM profile WHERE name LIKE '%shyam%'\")\n",
    "result =db.fetchall()\n",
    "for x in result:\n",
    "    print(x)\n"
   ]
  },
  {
   "cell_type": "code",
   "execution_count": 4,
   "metadata": {},
   "outputs": [],
   "source": [
    "sql = \"INSERT INTO profile (name,address,phone,class) VALUES('Nabin','Kathmandu','9856554543',2)\"\n",
    "db.execute(sql)\n",
    "database.commit()"
   ]
  },
  {
   "cell_type": "code",
   "execution_count": 5,
   "metadata": {},
   "outputs": [
    {
     "name": "stdout",
     "output_type": "stream",
     "text": [
      "Enter n = 2\n",
      "Enter name = Hari\n",
      "Enter address = Kathmandu\n",
      "Enter phone = 9856554509\n",
      "Enter class = 3\n",
      "Enter name = Krishna\n",
      "Enter address = Libali\n",
      "Enter phone = 9856556543\n",
      "Enter class = 1\n"
     ]
    }
   ],
   "source": [
    "# python -m pip install mysql-connector \n",
    "\n",
    "n = int(input(\"Enter n = \"))\n",
    "for i in range(n):\n",
    "    name = input(\"Enter name = \")\n",
    "    add = input(\"Enter address = \")\n",
    "    phone = input(\"Enter phone = \")\n",
    "    clas = int(input(\"Enter class = \"))\n",
    "    \n",
    "    sql = f\"INSERT INTO profile (name,address,phone,class) VALUES('{name}','{add}','{phone}',{clas})\"\n",
    "    db.execute(sql)\n",
    "database.commit()"
   ]
  },
  {
   "cell_type": "code",
   "execution_count": 6,
   "metadata": {},
   "outputs": [
    {
     "name": "stdout",
     "output_type": "stream",
     "text": [
      "INSERT INTO profile (name,address,phone,class) VALUES('Krishna','Libali','9856556543',1)\n"
     ]
    }
   ],
   "source": [
    "print(sql)"
   ]
  },
  {
   "cell_type": "code",
   "execution_count": 7,
   "metadata": {},
   "outputs": [],
   "source": [
    "sql = \"UPDATE profile SET name = 'Ram Prasad' WHERE name = 'Ram'\"\n",
    "db.execute(sql)\n",
    "database.commit()"
   ]
  },
  {
   "cell_type": "code",
   "execution_count": null,
   "metadata": {},
   "outputs": [],
   "source": [
    "# Update\n",
    "initial_name = input(\"Enter initial name = \")\n",
    "final_name = input(\"Enter final name = \")\n",
    "sql = f\"UPDATE profile SET name = '{final_name}' WHERE name = '{initial_name}'\"\n",
    "db.execute(sql)\n",
    "database.commit()"
   ]
  },
  {
   "cell_type": "code",
   "execution_count": 10,
   "metadata": {},
   "outputs": [],
   "source": [
    "sql = \"DELETE FROM profile WHERE address = 'Nepal' or class = 2 \"\n",
    "db.execute(sql)\n",
    "database.commit()"
   ]
  },
  {
   "cell_type": "code",
   "execution_count": null,
   "metadata": {},
   "outputs": [],
   "source": []
  }
 ],
 "metadata": {
  "kernelspec": {
   "display_name": "Python 3 (ipykernel)",
   "language": "python",
   "name": "python3"
  },
  "language_info": {
   "codemirror_mode": {
    "name": "ipython",
    "version": 3
   },
   "file_extension": ".py",
   "mimetype": "text/x-python",
   "name": "python",
   "nbconvert_exporter": "python",
   "pygments_lexer": "ipython3",
   "version": "3.7.1"
  }
 },
 "nbformat": 4,
 "nbformat_minor": 2
}
