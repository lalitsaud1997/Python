{
 "cells": [
  {
   "cell_type": "code",
   "execution_count": 1,
   "metadata": {},
   "outputs": [],
   "source": [
    "# dictionary\n",
    "# -Contain Mupltiple data\n",
    "# -Duplicate value\n",
    "# -Indexing\n",
    "# -Ordered\n",
    "# -Mutable"
   ]
  },
  {
   "cell_type": "code",
   "execution_count": 2,
   "metadata": {},
   "outputs": [],
   "source": [
    "# d = {<key>:<value>,<key>:<value>,<key>:<value>}"
   ]
  },
  {
   "cell_type": "code",
   "execution_count": 5,
   "metadata": {},
   "outputs": [
    {
     "name": "stdout",
     "output_type": "stream",
     "text": [
      "3\n",
      "<class 'dict'>\n"
     ]
    }
   ],
   "source": [
    "d = {'a':'apple',\n",
    "     'b':'ball',\n",
    "     'c':'cat'}\n",
    "print(len(d))\n",
    "print(type(d))"
   ]
  },
  {
   "cell_type": "code",
   "execution_count": 6,
   "metadata": {},
   "outputs": [
    {
     "name": "stdout",
     "output_type": "stream",
     "text": [
      "{'a': 'apple', 'b': 'ball', 'c': 'cat', 'A': 'apple'}\n"
     ]
    }
   ],
   "source": [
    "d = {'a':'apple',\n",
    "     'b':'ball',\n",
    "     'c':'cat',\n",
    "    'A':'apple'}\n",
    "print(d)"
   ]
  },
  {
   "cell_type": "code",
   "execution_count": 8,
   "metadata": {},
   "outputs": [
    {
     "name": "stdout",
     "output_type": "stream",
     "text": [
      "apple\n",
      "ball\n"
     ]
    }
   ],
   "source": [
    "d = {'a':'apple',\n",
    "     'b':'ball',\n",
    "     'c':'cat',\n",
    "    'A':'apple'}\n",
    "print(d['a'])\n",
    "print(d['b'])"
   ]
  },
  {
   "cell_type": "code",
   "execution_count": 10,
   "metadata": {},
   "outputs": [
    {
     "name": "stdout",
     "output_type": "stream",
     "text": [
      "{'a': 'Apple', 'b': 'Ball'}\n"
     ]
    }
   ],
   "source": [
    "d = dict()\n",
    "d['a'] = 'Apple'\n",
    "d['b'] = 'Ball'\n",
    "print(d)"
   ]
  },
  {
   "cell_type": "code",
   "execution_count": 12,
   "metadata": {},
   "outputs": [
    {
     "data": {
      "text/plain": [
       "{'a': 'apple', 'b': 'Ball'}"
      ]
     },
     "execution_count": 12,
     "metadata": {},
     "output_type": "execute_result"
    }
   ],
   "source": [
    "z = {'a': 'Apple', 'b': 'Ball'}\n",
    "z['a'] = 'apple'\n",
    "z"
   ]
  },
  {
   "cell_type": "code",
   "execution_count": 13,
   "metadata": {},
   "outputs": [
    {
     "data": {
      "text/plain": [
       "{'Ram': 9856554543, 'Shyam': 9809778765}"
      ]
     },
     "execution_count": 13,
     "metadata": {},
     "output_type": "execute_result"
    }
   ],
   "source": [
    "d = {}\n",
    "d['Ram'] = 9856554543\n",
    "d['Shyam'] = 9809778765\n",
    "d"
   ]
  },
  {
   "cell_type": "code",
   "execution_count": 14,
   "metadata": {},
   "outputs": [
    {
     "data": {
      "text/plain": [
       "9856554543"
      ]
     },
     "execution_count": 14,
     "metadata": {},
     "output_type": "execute_result"
    }
   ],
   "source": [
    "d['Ram']"
   ]
  },
  {
   "cell_type": "code",
   "execution_count": 16,
   "metadata": {},
   "outputs": [
    {
     "name": "stdout",
     "output_type": "stream",
     "text": [
      "Enter n = 2\n",
      "Enter name = Ram\n",
      "Enter phone = 9867665654\n",
      "Enter name = Shyam\n",
      "Enter phone = 9878776765\n",
      "{'Ram': 9867665654, 'Shyam': 9878776765}\n"
     ]
    }
   ],
   "source": [
    "info = dict()\n",
    "n = int(input(\"Enter n = \"))\n",
    "for i in range(n):\n",
    "    name = input(\"Enter name = \")\n",
    "    phone = int(input(\"Enter phone = \"))\n",
    "    info[name] = phone\n",
    "    \n",
    "print(info)"
   ]
  },
  {
   "cell_type": "code",
   "execution_count": 17,
   "metadata": {},
   "outputs": [
    {
     "data": {
      "text/plain": [
       "{'Ram': 9878776765, 'Shyam': 9809778765}"
      ]
     },
     "execution_count": 17,
     "metadata": {},
     "output_type": "execute_result"
    }
   ],
   "source": [
    "d['Ram'] = 9878776765\n",
    "d"
   ]
  },
  {
   "cell_type": "code",
   "execution_count": 18,
   "metadata": {},
   "outputs": [
    {
     "name": "stdout",
     "output_type": "stream",
     "text": [
      "Ram\n",
      "Shyam\n"
     ]
    }
   ],
   "source": [
    "a = {'Ram': 9878776765, 'Shyam': 9809778765}\n",
    "for i in a:\n",
    "    print(i)"
   ]
  },
  {
   "cell_type": "code",
   "execution_count": 19,
   "metadata": {},
   "outputs": [
    {
     "name": "stdout",
     "output_type": "stream",
     "text": [
      "9878776765\n",
      "9809778765\n"
     ]
    }
   ],
   "source": [
    "a = {'Ram': 9878776765, 'Shyam': 9809778765}\n",
    "for i in a.values():\n",
    "    print(i)"
   ]
  },
  {
   "cell_type": "code",
   "execution_count": 20,
   "metadata": {},
   "outputs": [
    {
     "name": "stdout",
     "output_type": "stream",
     "text": [
      "('Ram', 9878776765)\n",
      "('Shyam', 9809778765)\n"
     ]
    }
   ],
   "source": [
    "a = {'Ram': 9878776765, 'Shyam': 9809778765}\n",
    "for i in a.items():\n",
    "    print(i)"
   ]
  },
  {
   "cell_type": "code",
   "execution_count": 23,
   "metadata": {},
   "outputs": [
    {
     "name": "stdout",
     "output_type": "stream",
     "text": [
      "{'Ram': 9878776765, 'Shyam': 9809778765}\n"
     ]
    }
   ],
   "source": [
    "l = [('Ram', 9878776765),('Shyam', 9809778765)]\n",
    "print(dict(l))"
   ]
  },
  {
   "cell_type": "code",
   "execution_count": 37,
   "metadata": {},
   "outputs": [
    {
     "name": "stdout",
     "output_type": "stream",
     "text": [
      "Enter n = 9878776765\n",
      "Ram\n"
     ]
    }
   ],
   "source": [
    "a = {'Ram': 9878776765, 'Shyam': 9809778765}\n",
    "n = int(input(\"Enter n = \"))\n",
    "for i in a.items():\n",
    "   \n",
    "    if n == i[1]:\n",
    "        print(i[0])\n"
   ]
  },
  {
   "cell_type": "code",
   "execution_count": 39,
   "metadata": {},
   "outputs": [
    {
     "name": "stdout",
     "output_type": "stream",
     "text": [
      "{'Shyam': 9809778765}\n"
     ]
    }
   ],
   "source": [
    "# del pop()\n",
    "a = {'Ram': 9878776765, 'Shyam': 9809778765}\n",
    "del a['Ram']\n",
    "print(a)"
   ]
  },
  {
   "cell_type": "code",
   "execution_count": 41,
   "metadata": {},
   "outputs": [
    {
     "name": "stdout",
     "output_type": "stream",
     "text": [
      "9878776765\n",
      "{'Shyam': 9809778765}\n"
     ]
    }
   ],
   "source": [
    "#pop()\n",
    "a = {'Ram': 9878776765, 'Shyam': 9809778765}\n",
    "b = a.pop('Ram')\n",
    "print(b)\n",
    "print(a)"
   ]
  },
  {
   "cell_type": "code",
   "execution_count": 42,
   "metadata": {},
   "outputs": [
    {
     "name": "stdout",
     "output_type": "stream",
     "text": [
      "{('Ram', 'Hari'): 9878776765, 'Shyam': 9809778765}\n"
     ]
    }
   ],
   "source": [
    "a = {('Ram','Hari'): 9878776765, 'Shyam': 9809778765}\n",
    "print(a)"
   ]
  },
  {
   "cell_type": "code",
   "execution_count": 43,
   "metadata": {},
   "outputs": [
    {
     "data": {
      "text/plain": [
       "9878776765"
      ]
     },
     "execution_count": 43,
     "metadata": {},
     "output_type": "execute_result"
    }
   ],
   "source": [
    "a[('Ram', 'Hari')]"
   ]
  },
  {
   "cell_type": "code",
   "execution_count": 44,
   "metadata": {},
   "outputs": [
    {
     "ename": "TypeError",
     "evalue": "unhashable type: 'list'",
     "output_type": "error",
     "traceback": [
      "\u001b[1;31m---------------------------------------------------------------------------\u001b[0m",
      "\u001b[1;31mTypeError\u001b[0m                                 Traceback (most recent call last)",
      "\u001b[1;32m~\\AppData\\Local\\Temp/ipykernel_4472/3143497618.py\u001b[0m in \u001b[0;36m<module>\u001b[1;34m\u001b[0m\n\u001b[1;32m----> 1\u001b[1;33m \u001b[0ma\u001b[0m \u001b[1;33m=\u001b[0m \u001b[1;33m{\u001b[0m\u001b[1;33m[\u001b[0m\u001b[1;34m'Ram'\u001b[0m\u001b[1;33m,\u001b[0m\u001b[1;34m'Hari'\u001b[0m\u001b[1;33m]\u001b[0m\u001b[1;33m:\u001b[0m \u001b[1;36m9878776765\u001b[0m\u001b[1;33m,\u001b[0m \u001b[1;34m'Shyam'\u001b[0m\u001b[1;33m:\u001b[0m \u001b[1;36m9809778765\u001b[0m\u001b[1;33m}\u001b[0m\u001b[1;33m\u001b[0m\u001b[1;33m\u001b[0m\u001b[0m\n\u001b[0m\u001b[0;32m      2\u001b[0m \u001b[0mprint\u001b[0m\u001b[1;33m(\u001b[0m\u001b[0ma\u001b[0m\u001b[1;33m)\u001b[0m\u001b[1;33m\u001b[0m\u001b[1;33m\u001b[0m\u001b[0m\n",
      "\u001b[1;31mTypeError\u001b[0m: unhashable type: 'list'"
     ]
    }
   ],
   "source": [
    "a = {['Ram','Hari']: 9878776765, 'Shyam': 9809778765}\n",
    "print(a)"
   ]
  },
  {
   "cell_type": "code",
   "execution_count": 46,
   "metadata": {},
   "outputs": [
    {
     "data": {
      "text/plain": [
       "9878776765"
      ]
     },
     "execution_count": 46,
     "metadata": {},
     "output_type": "execute_result"
    }
   ],
   "source": [
    "# list inside dict\n",
    "a = {'Ram': [9878776765,9808778765], 'Shyam': [9809778765,9089887865]}\n",
    "a['Ram'][0]"
   ]
  },
  {
   "cell_type": "code",
   "execution_count": 47,
   "metadata": {},
   "outputs": [
    {
     "name": "stdout",
     "output_type": "stream",
     "text": [
      "{'Ram': [9878776765, 9808778765], 'Shyam': [9809778765, 9089887865], 'Hari': [9845778765, 9808667654]}\n"
     ]
    }
   ],
   "source": [
    "a = {'Ram': [9878776765,9808778765], 'Shyam': [9809778765,9089887865]}\n",
    "a['Hari'] = [9845778765,9808667654]\n",
    "print(a)"
   ]
  },
  {
   "cell_type": "code",
   "execution_count": 49,
   "metadata": {},
   "outputs": [
    {
     "data": {
      "text/plain": [
       "{'Ram': [9878776765, 9808778765, '9867665654'],\n",
       " 'Shyam': [9809778765, 9089887865]}"
      ]
     },
     "execution_count": 49,
     "metadata": {},
     "output_type": "execute_result"
    }
   ],
   "source": [
    "a = {'Ram': [9878776765,9808778765], 'Shyam': [9809778765,9089887865]}\n",
    "a['Ram'].append(9867665654)\n",
    "a"
   ]
  },
  {
   "cell_type": "code",
   "execution_count": 50,
   "metadata": {},
   "outputs": [
    {
     "data": {
      "text/plain": [
       "{'Ram': [9809778765, 9089887865], 'Shyam': [9809778765, 9089887865]}"
      ]
     },
     "execution_count": 50,
     "metadata": {},
     "output_type": "execute_result"
    }
   ],
   "source": [
    "d = {}\n",
    "d['Ram'] = [9809778765, 9089887865]\n",
    "d['Shyam'] = [9809778765,9089887865]\n",
    "d"
   ]
  },
  {
   "cell_type": "code",
   "execution_count": 51,
   "metadata": {},
   "outputs": [
    {
     "name": "stdout",
     "output_type": "stream",
     "text": [
      "Enter n = 2\n",
      "Enter name = Ram\n",
      "Enter ntc phone = 9878776765\n",
      "Enter ncell phone = 343243\n",
      "Enter name = Shyam\n",
      "Enter ntc phone = 9845445432\n",
      "Enter ncell phone = 987656756\n",
      "{'Ram': [9878776765, 343243], 'Shyam': [9845445432, 987656756]}\n"
     ]
    }
   ],
   "source": [
    "info = dict()\n",
    "n = int(input(\"Enter n = \"))\n",
    "for i in range(n):\n",
    "    name = input(\"Enter name = \")\n",
    "    ntc_phone = int(input(\"Enter ntc phone = \"))\n",
    "    ncell_phone = int(input(\"Enter ncell phone = \"))\n",
    "    info[name] = [ntc_phone,ncell_phone]\n",
    "    \n",
    "print(info)"
   ]
  },
  {
   "cell_type": "code",
   "execution_count": 60,
   "metadata": {},
   "outputs": [
    {
     "name": "stdout",
     "output_type": "stream",
     "text": [
      "Enter address = kathmandu\n",
      "('Ram', ['Kathmandu', 'Dhading'])\n",
      "('Shyam', ['Kathmandu', 'Nuwakot'])\n"
     ]
    }
   ],
   "source": [
    "a = {'Ram': ['Kathmandu', 'Dhading'], \n",
    "     'Shyam': ['Kathmandu', 'Nuwakot'],\n",
    "    'Hari':['Jhapa','Bara']}\n",
    "address = input(\"Enter address = \")\n",
    "for i in a.items():\n",
    "    if address.lower() == i[1][0].lower():\n",
    "        print(i)"
   ]
  },
  {
   "cell_type": "code",
   "execution_count": 5,
   "metadata": {},
   "outputs": [
    {
     "data": {
      "text/plain": [
       "dict_items([('Ram', ['Kathmandu', 'Dhading']), ('Shyam', ['Kathmandu', 'Nuwakot']), ('Hari', ['Jhapa', 'Bara'])])"
      ]
     },
     "execution_count": 5,
     "metadata": {},
     "output_type": "execute_result"
    }
   ],
   "source": [
    "a = {'Ram': ['Kathmandu', 'Dhading'], \n",
    "     'Shyam': ['Kathmandu', 'Nuwakot'],\n",
    "    'Hari':['Jhapa','Bara']}\n",
    "a.items()"
   ]
  },
  {
   "cell_type": "code",
   "execution_count": 7,
   "metadata": {},
   "outputs": [],
   "source": [
    "# tuple inside list\n",
    "a = {'Ram': ('Kathmandu', 'Dhading'), \n",
    "     'Shyam': ('Kathmandu', 'Nuwakot'),\n",
    "    'Hari': ('Jhapa','Bara')}"
   ]
  },
  {
   "cell_type": "code",
   "execution_count": 8,
   "metadata": {},
   "outputs": [
    {
     "name": "stdout",
     "output_type": "stream",
     "text": [
      "('Ram', ('Kathmandu', 'Dhading'))\n",
      "('Shyam', ('Kathmandu', 'Nuwakot'))\n",
      "('Hari', ('Jhapa', 'Bara'))\n"
     ]
    }
   ],
   "source": [
    "for i in a.items():\n",
    "    print(i)"
   ]
  },
  {
   "cell_type": "code",
   "execution_count": 10,
   "metadata": {},
   "outputs": [
    {
     "data": {
      "text/plain": [
       "{'Ram': ('Kathmandu', 'Dang'),\n",
       " 'Shyam': ('Kathmandu', 'Nuwakot'),\n",
       " 'Hari': ('Jhapa', 'Bara')}"
      ]
     },
     "execution_count": 10,
     "metadata": {},
     "output_type": "execute_result"
    }
   ],
   "source": [
    "a['Ram'] =('Kathmandu', 'Dang')\n",
    "a"
   ]
  },
  {
   "cell_type": "code",
   "execution_count": 11,
   "metadata": {},
   "outputs": [
    {
     "name": "stdout",
     "output_type": "stream",
     "text": [
      "[{'Name': 'Ram', 'Address': 'Kathmandu'}, {'Name': 'Shyam', 'Address': 'Bara'}, {'Name': 'Nabin', 'Address': 'Bhaktapur'}]\n"
     ]
    }
   ],
   "source": [
    "# dict inside list\n",
    "a = [{'Name':'Ram','Address':'Kathmandu'},\n",
    "   {'Name':'Shyam','Address':'Bara'},\n",
    "    {'Name':'Nabin','Address':'Bhaktapur'}]\n",
    "print(a)"
   ]
  },
  {
   "cell_type": "code",
   "execution_count": 12,
   "metadata": {},
   "outputs": [
    {
     "data": {
      "text/plain": [
       "{'Name': 'Ram', 'Address': 'Kathmandu'}"
      ]
     },
     "execution_count": 12,
     "metadata": {},
     "output_type": "execute_result"
    }
   ],
   "source": [
    "a[0]"
   ]
  },
  {
   "cell_type": "code",
   "execution_count": 13,
   "metadata": {},
   "outputs": [
    {
     "name": "stdout",
     "output_type": "stream",
     "text": [
      "{'Name': 'Ram', 'Address': 'Kathmandu'}\n",
      "{'Name': 'Shyam', 'Address': 'Bara'}\n",
      "{'Name': 'Nabin', 'Address': 'Bhaktapur'}\n"
     ]
    }
   ],
   "source": [
    "for i in a:\n",
    "    print(i)"
   ]
  },
  {
   "cell_type": "code",
   "execution_count": 14,
   "metadata": {},
   "outputs": [
    {
     "name": "stdout",
     "output_type": "stream",
     "text": [
      "('Name', 'Ram')\n",
      "('Address', 'Kathmandu')\n",
      "('Name', 'Shyam')\n",
      "('Address', 'Bara')\n",
      "('Name', 'Nabin')\n",
      "('Address', 'Bhaktapur')\n"
     ]
    }
   ],
   "source": [
    "for i in a:\n",
    "    for j in i.items():\n",
    "        print(j)"
   ]
  },
  {
   "cell_type": "code",
   "execution_count": 16,
   "metadata": {},
   "outputs": [
    {
     "name": "stdout",
     "output_type": "stream",
     "text": [
      "Ram\n",
      "Shyam\n",
      "Nabin\n"
     ]
    }
   ],
   "source": [
    "for i in a:\n",
    "    print(i['Name'])"
   ]
  },
  {
   "cell_type": "code",
   "execution_count": 17,
   "metadata": {},
   "outputs": [
    {
     "data": {
      "text/plain": [
       "[{'Name': 'Ram', 'Address': ['Kathmandu', 'Patan']},\n",
       " {'Name': 'Shyam', 'Address': ['Bara', 'Saptari']},\n",
       " {'Name': 'Nabin', 'Address': ['Bhaktapur', 'Nuwakot']},\n",
       " {'Name': 'Ram', 'Address': ['Kathmandu', 'Patan']}]"
      ]
     },
     "execution_count": 17,
     "metadata": {},
     "output_type": "execute_result"
    }
   ],
   "source": [
    "a = [{'Name': 'Ram', 'Address': ['Kathmandu','Patan']}, \n",
    "     {'Name': 'Shyam', 'Address': ['Bara','Saptari']}, \n",
    "     {'Name': 'Nabin', 'Address': ['Bhaktapur','Nuwakot']}]\n",
    "b = {'Name': 'Ram', 'Address': ['Kathmandu','Patan']}\n",
    "a.append(b)\n",
    "a"
   ]
  },
  {
   "cell_type": "code",
   "execution_count": 20,
   "metadata": {},
   "outputs": [
    {
     "data": {
      "text/plain": [
       "'Kathmandu'"
      ]
     },
     "execution_count": 20,
     "metadata": {},
     "output_type": "execute_result"
    }
   ],
   "source": [
    "a[0]['Address'][0]"
   ]
  },
  {
   "cell_type": "code",
   "execution_count": 21,
   "metadata": {},
   "outputs": [
    {
     "data": {
      "text/plain": [
       "[{'Name': 'Ram', 'Address': {'Per': 'Kathmandu', 'Tem': 'Patan'}},\n",
       " {'Name': 'Shyam', 'Address': {'Per': 'Bara', 'Tem': 'Saptari'}},\n",
       " {'Name': 'Nabin', 'Address': {'Per': 'Saptari', 'Tem': 'Kathmandu'}}]"
      ]
     },
     "execution_count": 21,
     "metadata": {},
     "output_type": "execute_result"
    }
   ],
   "source": [
    "a = [{'Name': 'Ram', 'Address': {'Per':'Kathmandu','Tem':'Patan'}}, \n",
    "     {'Name': 'Shyam', 'Address': {'Per':'Bara','Tem':'Saptari'}}, \n",
    "     {'Name': 'Nabin', 'Address':{'Per':'Saptari','Tem':'Kathmandu'}}]\n",
    "a"
   ]
  },
  {
   "cell_type": "code",
   "execution_count": 24,
   "metadata": {},
   "outputs": [
    {
     "data": {
      "text/plain": [
       "'Kathmandu'"
      ]
     },
     "execution_count": 24,
     "metadata": {},
     "output_type": "execute_result"
    }
   ],
   "source": [
    "a[0]['Address']['Per']"
   ]
  },
  {
   "cell_type": "code",
   "execution_count": 25,
   "metadata": {},
   "outputs": [
    {
     "data": {
      "text/plain": [
       "{1: {'Name': 'Ram', 'Address': {'Per': 'Kathmandu', 'Tem': 'Patan'}},\n",
       " 2: {'Name': 'Shyam', 'Address': {'Per': 'Bara', 'Tem': 'Saptari'}},\n",
       " 3: {'Name': 'Nabin', 'Address': {'Per': 'Saptari', 'Tem': 'Kathmandu'}}}"
      ]
     },
     "execution_count": 25,
     "metadata": {},
     "output_type": "execute_result"
    }
   ],
   "source": [
    "a = {1:{'Name': 'Ram', 'Address': {'Per':'Kathmandu','Tem':'Patan'}}, \n",
    "     2:{'Name': 'Shyam', 'Address': {'Per':'Bara','Tem':'Saptari'}}, \n",
    "     3:{'Name': 'Nabin', 'Address':{'Per':'Saptari','Tem':'Kathmandu'}}}\n",
    "a"
   ]
  },
  {
   "cell_type": "code",
   "execution_count": 27,
   "metadata": {},
   "outputs": [
    {
     "data": {
      "text/plain": [
       "{1: {'Name': 'Ram', 'Address': {'Per': 'Kathmandu', 'Tem': 'Patan'}},\n",
       " 2: {'Name': 'Shyam', 'Address': {'Per': 'Bara', 'Tem': 'Saptari'}},\n",
       " 3: {'Name': 'Nabin', 'Address': {'Per': 'Saptari', 'Tem': 'Kathmandu'}},\n",
       " 4: {'Name': 'Nabin', 'Address': {'Per': 'Saptari', 'Tem': 'Kathmandu'}}}"
      ]
     },
     "execution_count": 27,
     "metadata": {},
     "output_type": "execute_result"
    }
   ],
   "source": [
    "a[4] ={'Name': 'Nabin', 'Address':{'Per':'Saptari','Tem':'Kathmandu'}}\n",
    "a"
   ]
  },
  {
   "cell_type": "code",
   "execution_count": 29,
   "metadata": {},
   "outputs": [
    {
     "data": {
      "text/plain": [
       "{1: {'Name': 'Ram', 'Address': {'Per': 'Kathmandu', 'Tem': 'Patan'}},\n",
       " 2: {'Name': 'Shyam', 'Address': {'Per': 'Bara', 'Tem': 'Saptari'}},\n",
       " 3: {'Name': 'Nabin', 'Address': {'Per': 'Saptari', 'Tem': 'Kathmandu'}},\n",
       " 4: {'Name': 'Nabin', 'Address': {'Per': 'Patan', 'Tem': 'Kathmandu'}}}"
      ]
     },
     "execution_count": 29,
     "metadata": {},
     "output_type": "execute_result"
    }
   ],
   "source": [
    "a[4]['Address']['Per'] = 'Patan'\n",
    "a"
   ]
  },
  {
   "cell_type": "code",
   "execution_count": null,
   "metadata": {},
   "outputs": [],
   "source": [
    "# WAP to make dict inside dict\n",
    "# WAP to make list inside dict\n",
    "# WAP to make dict inside list"
   ]
  }
 ],
 "metadata": {
  "kernelspec": {
   "display_name": "Python 3 (ipykernel)",
   "language": "python",
   "name": "python3"
  },
  "language_info": {
   "codemirror_mode": {
    "name": "ipython",
    "version": 3
   },
   "file_extension": ".py",
   "mimetype": "text/x-python",
   "name": "python",
   "nbconvert_exporter": "python",
   "pygments_lexer": "ipython3",
   "version": "3.7.1"
  }
 },
 "nbformat": 4,
 "nbformat_minor": 2
}
