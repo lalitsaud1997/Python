{
 "cells": [
  {
   "cell_type": "code",
   "execution_count": 3,
   "metadata": {},
   "outputs": [
    {
     "name": "stdout",
     "output_type": "stream",
     "text": [
      "Enter name = Ram\n",
      "Enter age = 34\n",
      "Enter add = Kathmandu\n",
      "Hello world I am Ram. I am from Kathmandu. I am 34 years old\n"
     ]
    }
   ],
   "source": [
    "class Data:\n",
    "    def __init__(self,name,age,add):\n",
    "        self.name = name\n",
    "        self.age = age\n",
    "        self.add = add\n",
    "        \n",
    "class Information(Data):\n",
    "    def output(self):\n",
    "        info = f\"Hello world I am {self.name}. I am from {self.add}. I am {self.age} years old\"\n",
    "        print(info)\n",
    "        \n",
    "name = input(\"Enter name = \")\n",
    "age = int(input(\"Enter age = \"))\n",
    "add = input(\"Enter add = \")\n",
    "\n",
    "obj = Information(name,age,add)\n",
    "obj.output()"
   ]
  },
  {
   "cell_type": "code",
   "execution_count": 5,
   "metadata": {},
   "outputs": [
    {
     "name": "stdout",
     "output_type": "stream",
     "text": [
      "Enter name = ram\n",
      "Enter age = 34\n",
      "Enter add = Kathmandu\n",
      "Hello world I am ram. I am from Kathmandu. I am 34 years old\n",
      "Enter name = Shyam\n",
      "Enter age = 23\n",
      "Enter add = Kathmandu\n",
      "Shyam 23 Kathmandu\n"
     ]
    }
   ],
   "source": [
    "class Data:\n",
    "    def __init__(self):\n",
    "        self.name = input(\"Enter name = \")\n",
    "        self.age = int(input(\"Enter age = \"))\n",
    "        self.add = input(\"Enter add = \")\n",
    "        \n",
    "class Information(Data):\n",
    "    def output(self):\n",
    "        info = f\"Hello world I am {self.name}. I am from {self.add}. I am {self.age} years old\"\n",
    "        print(info)\n",
    "        \n",
    "\n",
    "obj = Information()\n",
    "obj.output()\n",
    "\n",
    "# obj1 = Data()\n",
    "# print(obj1.name,obj1.age,obj1.add)"
   ]
  },
  {
   "cell_type": "code",
   "execution_count": 6,
   "metadata": {},
   "outputs": [],
   "source": [
    "class A:\n",
    "    pass\n",
    "class B(A):\n",
    "    pass\n",
    "class C(B):\n",
    "    pass\n",
    "\n",
    "obj = C()"
   ]
  },
  {
   "cell_type": "code",
   "execution_count": 7,
   "metadata": {},
   "outputs": [
    {
     "name": "stdout",
     "output_type": "stream",
     "text": [
      "This is class A\n",
      "This is Class B\n",
      "This is class C\n"
     ]
    }
   ],
   "source": [
    "class A:\n",
    "    print(\"This is class A\")\n",
    "class B(A):\n",
    "    print(\"This is Class B\")\n",
    "class C(B):\n",
    "    print(\"This is class C\")\n",
    "\n",
    "obj = C()"
   ]
  },
  {
   "cell_type": "code",
   "execution_count": 13,
   "metadata": {},
   "outputs": [
    {
     "name": "stdout",
     "output_type": "stream",
     "text": [
      "Ram\n",
      "23\n",
      "Ram\n"
     ]
    }
   ],
   "source": [
    "class A:\n",
    "    def __init__(self,name):\n",
    "        self.name = name\n",
    "        \n",
    "class B(A):\n",
    "    def __init__(self,name,age):\n",
    "        A.__init__(self,name)\n",
    "        self.age = age\n",
    "        \n",
    "class C(B):\n",
    "    def __init__(self,name,age,add):\n",
    "        self.add = add\n",
    "        B.__init__(self,name,age)\n",
    "        print(self.name)\n",
    "        \n",
    "obj = C(\"Ram\",23,\"Kathmandu\")"
   ]
  },
  {
   "cell_type": "code",
   "execution_count": 14,
   "metadata": {},
   "outputs": [
    {
     "name": "stdout",
     "output_type": "stream",
     "text": [
      "Hello I am Ram. I am from Kathmandu. I am 23.\n"
     ]
    }
   ],
   "source": [
    "class A:\n",
    "    def __init__(self,name):\n",
    "        self.name = name\n",
    "        \n",
    "class B:\n",
    "    def __init__(self,age):\n",
    "        self.age = age\n",
    "        \n",
    "class C(A,B):\n",
    "    def __init__(self,name,age,add):\n",
    "        self.add = add\n",
    "        A.__init__(self,name)\n",
    "        B.__init__(self,age)\n",
    "        \n",
    "    def info(self):\n",
    "        info = f\"Hello I am {self.name}. I am from {self.add}. I am {self.age}.\"\n",
    "        print(info)\n",
    "        \n",
    "obj = C(\"Ram\",23,\"Kathmandu\")\n",
    "obj.info()"
   ]
  },
  {
   "cell_type": "code",
   "execution_count": null,
   "metadata": {},
   "outputs": [],
   "source": [
    "class A:\n",
    "    def __init__(self):\n",
    "        self.name = input(\"Enter name = \")\n",
    "        \n",
    "class B:\n",
    "    def __init__(self):\n",
    "        self.age = input(\"Enter age = \")\n",
    "        \n",
    "class C(A,B):\n",
    "    def __init__(self,add):\n",
    "        self.add = add\n",
    "        A.__init__(self)\n",
    "        B.__init__(self)\n",
    "        \n",
    "    def info(self):\n",
    "        info = f\"Hello I am {self.name}. I am from {self.add}. I am {self.age}.\"\n",
    "        print(info)\n",
    "        \n",
    "obj = C(\"Kathmandu\")\n",
    "obj.info()\n"
   ]
  },
  {
   "cell_type": "code",
   "execution_count": 2,
   "metadata": {},
   "outputs": [
    {
     "name": "stdout",
     "output_type": "stream",
     "text": [
      "Enter name = ram\n",
      "Enter age = 34\n",
      "Hello I am ram. ThapaI am from Kathmandu. I am 34.\n"
     ]
    }
   ],
   "source": [
    "class A:\n",
    "    def __init__(self):\n",
    "        self.name = input(\"Enter name = \")\n",
    "    def a(self):\n",
    "        last_name = \"Thapa\"\n",
    "        return last_name\n",
    "        \n",
    "class B:\n",
    "    def __init__(self):\n",
    "        self.age = input(\"Enter age = \")\n",
    "        \n",
    "class C(A,B):\n",
    "    def __init__(self,add):\n",
    "        self.add = add\n",
    "        A.__init__(self)\n",
    "        B.__init__(self)\n",
    "        \n",
    "    def info(self):\n",
    "        info = f\"Hello I am {self.name}. {super().a()} I am from {self.add}. I am {self.age}.\"\n",
    "        print(info)\n",
    "        \n",
    "obj = C(\"Kathmandu\")\n",
    "obj.info()"
   ]
  },
  {
   "cell_type": "code",
   "execution_count": 2,
   "metadata": {},
   "outputs": [
    {
     "ename": "NameError",
     "evalue": "name 'B' is not defined",
     "output_type": "error",
     "traceback": [
      "\u001b[1;31m---------------------------------------------------------------------------\u001b[0m",
      "\u001b[1;31mNameError\u001b[0m                                 Traceback (most recent call last)",
      "\u001b[1;32m~\\AppData\\Local\\Temp/ipykernel_7148/2339789422.py\u001b[0m in \u001b[0;36m<module>\u001b[1;34m\u001b[0m\n\u001b[0;32m      7\u001b[0m \u001b[1;33m\u001b[0m\u001b[0m\n\u001b[0;32m      8\u001b[0m \u001b[1;33m\u001b[0m\u001b[0m\n\u001b[1;32m----> 9\u001b[1;33m \u001b[1;32mclass\u001b[0m \u001b[0mC\u001b[0m\u001b[1;33m(\u001b[0m\u001b[0mA\u001b[0m\u001b[1;33m,\u001b[0m\u001b[0mB\u001b[0m\u001b[1;33m)\u001b[0m\u001b[1;33m:\u001b[0m\u001b[1;33m\u001b[0m\u001b[1;33m\u001b[0m\u001b[0m\n\u001b[0m\u001b[0;32m     10\u001b[0m     \u001b[1;32mdef\u001b[0m \u001b[0m__init__\u001b[0m\u001b[1;33m(\u001b[0m\u001b[0mself\u001b[0m\u001b[1;33m,\u001b[0m\u001b[0madd\u001b[0m\u001b[1;33m)\u001b[0m\u001b[1;33m:\u001b[0m\u001b[1;33m\u001b[0m\u001b[1;33m\u001b[0m\u001b[0m\n\u001b[0;32m     11\u001b[0m         \u001b[0mself\u001b[0m\u001b[1;33m.\u001b[0m\u001b[0madd\u001b[0m \u001b[1;33m=\u001b[0m \u001b[0madd\u001b[0m\u001b[1;33m\u001b[0m\u001b[1;33m\u001b[0m\u001b[0m\n",
      "\u001b[1;31mNameError\u001b[0m: name 'B' is not defined"
     ]
    }
   ],
   "source": [
    "class A:\n",
    "    def __init__(self):\n",
    "        self.name = input(\"Enter name = \")\n",
    "    def a(self):\n",
    "        last_name = \"Thapa\"\n",
    "        print(last_name)\n",
    "        \n",
    "class B:\n",
    "    def __init__(self):\n",
    "        self.age = input(\"Enter age = \")\n",
    "        \n",
    "class C(A,B):\n",
    "    def __init__(self,add):\n",
    "        self.add = add\n",
    "        A.__init__(self)\n",
    "        B.__init__(self)\n",
    "        \n",
    "    def info(self):\n",
    "        info = f\"Hello I am {self.name}.  I am from {self.add}. I am {self.age}.\"\n",
    "        print(info)\n",
    "        super().a()\n",
    "        \n",
    "obj = C(\"Kathmandu\")\n",
    "obj.info()"
   ]
  },
  {
   "cell_type": "code",
   "execution_count": 4,
   "metadata": {},
   "outputs": [
    {
     "name": "stdout",
     "output_type": "stream",
     "text": [
      "Ram\n",
      "32\n",
      "Kathmandu\n"
     ]
    }
   ],
   "source": [
    "# Public properties\n",
    "class Info:\n",
    "    def __init__(self,name,age,add):\n",
    "        self.name = name\n",
    "        self.age = age\n",
    "        self.add = add\n",
    "        \n",
    "        \n",
    "obj = Info(\"Ram\",32,\"Kathmandu\")\n",
    "print(obj.name)\n",
    "print(obj.age)\n",
    "print(obj.add)"
   ]
  },
  {
   "cell_type": "code",
   "execution_count": 6,
   "metadata": {},
   "outputs": [
    {
     "name": "stdout",
     "output_type": "stream",
     "text": [
      "Ram\n",
      "32\n",
      "Kathmandu\n"
     ]
    }
   ],
   "source": [
    "# Protected properties\n",
    "class Info:\n",
    "    def __init__(self,name,age,add):\n",
    "        self._name = name\n",
    "        self._age = age\n",
    "        self._add = add\n",
    "        \n",
    "        \n",
    "obj = Info(\"Ram\",32,\"Kathmandu\")\n",
    "print(obj._name)\n",
    "print(obj._age)\n",
    "print(obj._add)"
   ]
  },
  {
   "cell_type": "code",
   "execution_count": 9,
   "metadata": {},
   "outputs": [
    {
     "name": "stdout",
     "output_type": "stream",
     "text": [
      "Ram\n",
      "32\n",
      "Kathmandu\n"
     ]
    }
   ],
   "source": [
    "# Private properties\n",
    "class Info:\n",
    "    def __init__(self,name,age,add):\n",
    "        self.__name = name\n",
    "        self.__age = age\n",
    "        self.__add = add\n",
    "        \n",
    "        \n",
    "obj = Info(\"Ram\",32,\"Kathmandu\")\n",
    "print(obj._Info__name)\n",
    "print(obj._Info__age)\n",
    "print(obj._Info__add)"
   ]
  },
  {
   "cell_type": "code",
   "execution_count": 10,
   "metadata": {},
   "outputs": [
    {
     "name": "stdout",
     "output_type": "stream",
     "text": [
      "Enter name = Ram\n",
      "Enter age = 34\n",
      "Enter add = kathmandu\n",
      "Hello world I am Ram.I am 34 years old\n"
     ]
    }
   ],
   "source": [
    "class Data:\n",
    "    def __init__(self):\n",
    "        self.name = input(\"Enter name = \")\n",
    "        self._age = int(input(\"Enter age = \"))\n",
    "        self.__add = input(\"Enter add = \")\n",
    "        \n",
    "class Information(Data):\n",
    "    def output(self):\n",
    "        info = f\"Hello world I am {self.name}. I am {self.age} years old\"\n",
    "        print(info)\n",
    "        \n",
    "\n",
    "obj = Information()\n",
    "obj.output()\n",
    "\n",
    "# obj1 = Data()\n",
    "# print(obj1.name,obj1.age,obj1.add)"
   ]
  },
  {
   "cell_type": "code",
   "execution_count": 12,
   "metadata": {},
   "outputs": [
    {
     "name": "stdout",
     "output_type": "stream",
     "text": [
      "Enter name = Ram\n",
      "Enter age = 34\n",
      "Enter add = Kathmandu\n"
     ]
    },
    {
     "ename": "AttributeError",
     "evalue": "'Information' object has no attribute 'age'",
     "output_type": "error",
     "traceback": [
      "\u001b[1;31m---------------------------------------------------------------------------\u001b[0m",
      "\u001b[1;31mAttributeError\u001b[0m                            Traceback (most recent call last)",
      "\u001b[1;32m~\\AppData\\Local\\Temp/ipykernel_7148/342582578.py\u001b[0m in \u001b[0;36m<module>\u001b[1;34m\u001b[0m\n\u001b[0;32m     14\u001b[0m \u001b[1;33m\u001b[0m\u001b[0m\n\u001b[0;32m     15\u001b[0m \u001b[0mobj\u001b[0m \u001b[1;33m=\u001b[0m \u001b[0mInformation\u001b[0m\u001b[1;33m(\u001b[0m\u001b[1;33m)\u001b[0m\u001b[1;33m\u001b[0m\u001b[1;33m\u001b[0m\u001b[0m\n\u001b[1;32m---> 16\u001b[1;33m \u001b[0mobj\u001b[0m\u001b[1;33m.\u001b[0m\u001b[0moutput\u001b[0m\u001b[1;33m(\u001b[0m\u001b[1;33m)\u001b[0m\u001b[1;33m\u001b[0m\u001b[1;33m\u001b[0m\u001b[0m\n\u001b[0m\u001b[0;32m     17\u001b[0m \u001b[1;33m\u001b[0m\u001b[0m\n\u001b[0;32m     18\u001b[0m \u001b[1;31m# obj1 = Data()\u001b[0m\u001b[1;33m\u001b[0m\u001b[1;33m\u001b[0m\u001b[1;33m\u001b[0m\u001b[0m\n",
      "\u001b[1;32m~\\AppData\\Local\\Temp/ipykernel_7148/342582578.py\u001b[0m in \u001b[0;36moutput\u001b[1;34m(self)\u001b[0m\n\u001b[0;32m      9\u001b[0m \u001b[1;32mclass\u001b[0m \u001b[0mInformation\u001b[0m\u001b[1;33m(\u001b[0m\u001b[0mData\u001b[0m\u001b[1;33m)\u001b[0m\u001b[1;33m:\u001b[0m\u001b[1;33m\u001b[0m\u001b[1;33m\u001b[0m\u001b[0m\n\u001b[0;32m     10\u001b[0m     \u001b[1;32mdef\u001b[0m \u001b[0moutput\u001b[0m\u001b[1;33m(\u001b[0m\u001b[0mself\u001b[0m\u001b[1;33m)\u001b[0m\u001b[1;33m:\u001b[0m\u001b[1;33m\u001b[0m\u001b[1;33m\u001b[0m\u001b[0m\n\u001b[1;32m---> 11\u001b[1;33m         \u001b[0minfo\u001b[0m \u001b[1;33m=\u001b[0m \u001b[1;34mf\"Hello world I am {self.name}.I am from {super().add()} I am {self.age} years old\"\u001b[0m\u001b[1;33m\u001b[0m\u001b[1;33m\u001b[0m\u001b[0m\n\u001b[0m\u001b[0;32m     12\u001b[0m         \u001b[0mprint\u001b[0m\u001b[1;33m(\u001b[0m\u001b[0minfo\u001b[0m\u001b[1;33m)\u001b[0m\u001b[1;33m\u001b[0m\u001b[1;33m\u001b[0m\u001b[0m\n\u001b[0;32m     13\u001b[0m \u001b[1;33m\u001b[0m\u001b[0m\n",
      "\u001b[1;31mAttributeError\u001b[0m: 'Information' object has no attribute 'age'"
     ]
    }
   ],
   "source": [
    "class Data:\n",
    "    def __init__(self):\n",
    "        self.name = input(\"Enter name = \")\n",
    "        self._age = int(input(\"Enter age = \"))\n",
    "        self.__add = input(\"Enter add = \")\n",
    "        \n",
    "    def add(self):\n",
    "        return self.__add\n",
    "class Information(Data):\n",
    "    def output(self):\n",
    "        info = f\"Hello world I am {self.name}.I am from {super().add()} I am {self._age} years old\"\n",
    "        print(info)\n",
    "        \n",
    "\n",
    "obj = Information()\n",
    "obj.output()\n",
    "\n",
    "# obj1 = Data()\n",
    "# print(obj1.name,obj1.age,obj1.add)"
   ]
  },
  {
   "cell_type": "code",
   "execution_count": null,
   "metadata": {},
   "outputs": [],
   "source": [
    "class Car():\n",
    "    def __init__(self, name = 'Ram', age = 30, year = '1971', add = 'USA', \n",
    "     color = 'black'):\n",
    "        self.__name = name\n",
    "        self._age = age\n",
    "        self.__year = year\n",
    "        self.__add = add\n",
    "        self._color = color\n",
    "        \n",
    "    def move_forward(self, name):\n",
    "        print(f\"Hello My name is {self.__name}. {name} I am from {self.__add}.\")\n",
    "        \n",
    "    def move_backward(self, age):\n",
    "        print(f\"Hello My name is {self.__name}.I am {self._age}. {age}\")\n",
    "        \n",
    "mycar = Car()\n",
    "print(mycar._age)              # changing to mycar.move_forward(100)\n",
    "mycar.move_forward(\"Ajaya\")\n",
    "mycar.move_backward(\"50\")\n",
    "\n"
   ]
  },
  {
   "cell_type": "code",
   "execution_count": 14,
   "metadata": {},
   "outputs": [
    {
     "name": "stdout",
     "output_type": "stream",
     "text": [
      "Welcome to  BroadWay\n",
      "Here  Steve  learning  Java\n",
      "The review of   Steve  is  50000\n"
     ]
    }
   ],
   "source": [
    "class Company:\n",
    "    def __init__(self, name, proj):\n",
    "        self.name = name      # name(name of company) is public\n",
    "        self._proj = proj     # proj(current project) is protected\n",
    "    def show(self):\n",
    "        print(\"The code of the company is = \",self.ccode)   \n",
    "        \n",
    "class Emp(Company):\n",
    "    def __init__(self, eName, sal, cName, proj):\n",
    "\n",
    "        Company.__init__(self, cName, proj)\n",
    "        self.name = eName   # public member variable\n",
    "        self.__sal = sal    # private member variable\n",
    "    def show_sal(self):\n",
    "        print(\"The review of  \",self.name,\" is \",self.__sal,)\n",
    "        \n",
    "c = Company(\"BroadWay\", \"Java\")\n",
    "e = Emp(\"Steve\", 50000, c.name, c._proj)\n",
    "print(\"Welcome to \", c.name)\n",
    "print(\"Here \", e.name,\" learning \",e._proj)\n",
    "e.show_sal()\n"
   ]
  },
  {
   "cell_type": "code",
   "execution_count": null,
   "metadata": {},
   "outputs": [],
   "source": [
    "class Parrot:\n",
    "    def fly(self):\n",
    "        print(\"Parrot can fly\")\n",
    "    def swim(self):\n",
    "        print(\"Parrot can't swim\")\n",
    "        \n",
    "class Penguin:\n",
    "    def fly(self):\n",
    "        print(\"Penguin can't fly\")\n",
    "    def swim(self):\n",
    "        print(\"Penguin can swim\")\n",
    "        \n",
    "# common interface\n",
    "def flying_test(bird):\n",
    "    bird.fly()\n",
    "#instantiate objects\n",
    "blu = Parrot()\n",
    "peggy = Penguin()\n",
    "# passing the object\n",
    "flying_test(blu)\n",
    "flying_test(peggy)"
   ]
  }
 ],
 "metadata": {
  "kernelspec": {
   "display_name": "Python 3 (ipykernel)",
   "language": "python",
   "name": "python3"
  },
  "language_info": {
   "codemirror_mode": {
    "name": "ipython",
    "version": 3
   },
   "file_extension": ".py",
   "mimetype": "text/x-python",
   "name": "python",
   "nbconvert_exporter": "python",
   "pygments_lexer": "ipython3",
   "version": "3.7.1"
  }
 },
 "nbformat": 4,
 "nbformat_minor": 2
}
