{
 "cells": [
  {
   "cell_type": "code",
   "execution_count": 1,
   "metadata": {},
   "outputs": [],
   "source": [
    "# def <function_name>():\n",
    "#     <operation>\n",
    "    \n",
    "# <function_name>()"
   ]
  },
  {
   "cell_type": "code",
   "execution_count": 2,
   "metadata": {},
   "outputs": [],
   "source": [
    "# print()\n",
    "# int()\n",
    "# str()\n",
    "# float()\n",
    "# type()"
   ]
  },
  {
   "cell_type": "code",
   "execution_count": 6,
   "metadata": {},
   "outputs": [
    {
     "name": "stdout",
     "output_type": "stream",
     "text": [
      "Hello World\n",
      "Hello World\n"
     ]
    }
   ],
   "source": [
    "# user defined\n",
    "def hello():\n",
    "    print(\"Hello World\")\n",
    "    \n",
    "hello()\n",
    "hello()"
   ]
  },
  {
   "cell_type": "code",
   "execution_count": 8,
   "metadata": {},
   "outputs": [
    {
     "name": "stdout",
     "output_type": "stream",
     "text": [
      "Enter l = 100\n",
      "Enter b = 23\n",
      "Enter h = 23\n",
      "52900\n"
     ]
    }
   ],
   "source": [
    "def cal():\n",
    "    l = int(input(\"Enter l = \"))    #local variable\n",
    "    b = int(input(\"Enter b = \"))\n",
    "    h = int(input(\"Enter h = \"))\n",
    "    v = l*b*h\n",
    "    print(v)\n",
    "\n",
    "cal()"
   ]
  },
  {
   "cell_type": "code",
   "execution_count": null,
   "metadata": {},
   "outputs": [],
   "source": [
    "l = int(input(\"Enter l = \"))    #global variable\n",
    "b = int(input(\"Enter b = \"))\n",
    "h = int(input(\"Enter h = \"))\n",
    "def cal():\n",
    "    v = l*b*h\n",
    "    print(v)\n",
    "\n",
    "cal()"
   ]
  },
  {
   "cell_type": "code",
   "execution_count": 10,
   "metadata": {},
   "outputs": [
    {
     "name": "stdout",
     "output_type": "stream",
     "text": [
      "Enter l = 100\n",
      "Enter b = 23\n",
      "Enter h = 23\n",
      "52900\n",
      "100\n"
     ]
    }
   ],
   "source": [
    "def cal():\n",
    "    global l\n",
    "    l = int(input(\"Enter l = \"))    #local variable\n",
    "    b = int(input(\"Enter b = \"))\n",
    "    h = int(input(\"Enter h = \"))\n",
    "    v = l*b*h\n",
    "    print(v)\n",
    "\n",
    "cal()\n",
    "print(l)"
   ]
  },
  {
   "cell_type": "code",
   "execution_count": null,
   "metadata": {},
   "outputs": [],
   "source": [
    "x = int(input(\"Enter 1 for area 2 for volume = \"))\n",
    "if x ==1:\n",
    "    l = int(input(\"Enter l = \"))    #local variable\n",
    "    b = int(input(\"Enter b = \"))\n",
    "    a = l*b\n",
    "    print(\"The area is = \",a)\n",
    "elif x == 2:\n",
    "    l = int(input(\"Enter l = \"))    #local variable\n",
    "    b = int(input(\"Enter b = \"))\n",
    "    h = int(input(\"Enter h = \"))\n",
    "    v = l*b*h\n",
    "    print(v)\n",
    "\n",
    "\n",
    "\n"
   ]
  },
  {
   "cell_type": "code",
   "execution_count": 11,
   "metadata": {},
   "outputs": [
    {
     "name": "stdout",
     "output_type": "stream",
     "text": [
      "Enter 1 for area 2 for volume = 1\n",
      "Enter l = 132\n",
      "Enter b = 43\n",
      "The area is =  5676\n"
     ]
    }
   ],
   "source": [
    "def area():\n",
    "    l = int(input(\"Enter l = \"))    #local variable\n",
    "    b = int(input(\"Enter b = \"))\n",
    "    a = l*b\n",
    "    print(\"The area is = \",a)\n",
    "def volume():\n",
    "    l = int(input(\"Enter l = \"))    #local variable\n",
    "    b = int(input(\"Enter b = \"))\n",
    "    h = int(input(\"Enter h = \"))\n",
    "    v = l*b*h\n",
    "    \n",
    "    \n",
    "x = int(input(\"Enter 1 for area 2 for volume = \"))\n",
    "if x ==1:\n",
    "    area()\n",
    "elif x == 2:\n",
    "    volume()\n",
    "    \n",
    "else:\n",
    "    print(\"Invalid number\")\n",
    "\n",
    "\n"
   ]
  },
  {
   "cell_type": "code",
   "execution_count": null,
   "metadata": {},
   "outputs": [],
   "source": [
    "def area():\n",
    "    a = l*b\n",
    "    print(\"The area is = \",a)\n",
    "    \n",
    "def volume():\n",
    "    h = int(input(\"Enter h = \"))\n",
    "    v = l*b*h\n",
    "    \n",
    "    \n",
    "x = int(input(\"Enter 1 for area 2 for volume = \"))\n",
    "l = int(input(\"Enter l = \"))    #global variable\n",
    "b = int(input(\"Enter b = \"))\n",
    "\n",
    "if x ==1:\n",
    "    area()\n",
    "elif x == 2:\n",
    "    volume()\n",
    "    \n",
    "else:\n",
    "    print(\"Invalid number\")\n",
    "\n",
    "\n"
   ]
  },
  {
   "cell_type": "code",
   "execution_count": 12,
   "metadata": {},
   "outputs": [],
   "source": [
    "# function with no argument and no return type\n",
    "# function with argument and no return type\n",
    "# function with no argument and return type\n",
    "# function with argument and return type\n"
   ]
  },
  {
   "cell_type": "code",
   "execution_count": 14,
   "metadata": {},
   "outputs": [
    {
     "name": "stdout",
     "output_type": "stream",
     "text": [
      "Hello World\n"
     ]
    }
   ],
   "source": [
    "# function with argument and no return type\n",
    "\n",
    "def hello(a):        #parameter\n",
    "    print(a)\n",
    "    \n",
    "hello(\"Hello World\")  #Argument"
   ]
  },
  {
   "cell_type": "code",
   "execution_count": 15,
   "metadata": {},
   "outputs": [
    {
     "name": "stdout",
     "output_type": "stream",
     "text": [
      "50\n"
     ]
    }
   ],
   "source": [
    "# function with argument and no return type\n",
    "\n",
    "def area(l,b):   #parameter\n",
    "    a = l*b\n",
    "    print(a)\n",
    "\n",
    "area(10,5)    #Argument"
   ]
  },
  {
   "cell_type": "code",
   "execution_count": 16,
   "metadata": {},
   "outputs": [
    {
     "name": "stdout",
     "output_type": "stream",
     "text": [
      "Enter l = 123\n",
      "Enter b = 2\n",
      "Enter h = 3\n",
      "738\n"
     ]
    }
   ],
   "source": [
    "# function with argument and no return type\n",
    "def cal(x,y,z):\n",
    "    v = x*y*z\n",
    "    print(v)\n",
    "\n",
    "\n",
    "l = int(input(\"Enter l = \"))    #local variable\n",
    "b = int(input(\"Enter b = \"))\n",
    "h = int(input(\"Enter h = \"))\n",
    "\n",
    "cal(l,b,h)\n"
   ]
  },
  {
   "cell_type": "code",
   "execution_count": null,
   "metadata": {},
   "outputs": [],
   "source": [
    "def add(a,b):\n",
    "    print(a+b)\n",
    "def sub(a,b):\n",
    "    print(a-b)\n",
    "def mul(a,b):\n",
    "    print(a*b)\n",
    "def div(a,b):\n",
    "    print(a/b)\n",
    "def cal():\n",
    "    a = float(input(\"Enter a = \"))\n",
    "    b = float(input(\"Enter b = \"))\n",
    "    o = input(\"Enter Operator + - * /  \")\n",
    "    if o == '+':\n",
    "        add(a,b)\n",
    "    elif o == '-':\n",
    "        sub(a,b)\n",
    "    elif o == '*':\n",
    "        mul(a,b)\n",
    "    elif o == '/' and b != 0:\n",
    "        div(a,b)\n",
    "    elif o == '/' and b == 0:\n",
    "        print(\"Value of b can not be zero\")\n",
    "    else:\n",
    "        print(\"Invalid operator\")\n",
    "cal()"
   ]
  },
  {
   "cell_type": "code",
   "execution_count": 1,
   "metadata": {},
   "outputs": [],
   "source": [
    "# Return Type function"
   ]
  },
  {
   "cell_type": "code",
   "execution_count": 2,
   "metadata": {},
   "outputs": [
    {
     "name": "stdout",
     "output_type": "stream",
     "text": [
      "Enter l = 123\n",
      "Enter b = 23\n",
      "Enter h = 34\n",
      "96186\n"
     ]
    }
   ],
   "source": [
    "def Cal():\n",
    "    l = int(input(\"Enter l = \"))\n",
    "    b =  int(input(\"Enter b = \"))\n",
    "    h =  int(input(\"Enter h = \"))\n",
    "    v = l*b*h\n",
    "    return v\n",
    "\n",
    "print(Cal())"
   ]
  },
  {
   "cell_type": "code",
   "execution_count": null,
   "metadata": {},
   "outputs": [],
   "source": [
    "l = int(input(\"Enter l = \"))\n",
    "b =  int(input(\"Enter b = \"))\n",
    "def volume():\n",
    "    h =  int(input(\"Enter h = \"))\n",
    "    v = l*b*h\n",
    "    return v\n",
    "\n",
    "def area():\n",
    "    a = l*b\n",
    "    return a\n",
    "volume = volume()\n",
    "area = area()\n",
    "print(area,volume)"
   ]
  }
 ],
 "metadata": {
  "celltoolbar": "Edit Metadata",
  "kernelspec": {
   "display_name": "Python 3 (ipykernel)",
   "language": "python",
   "name": "python3"
  },
  "language_info": {
   "codemirror_mode": {
    "name": "ipython",
    "version": 3
   },
   "file_extension": ".py",
   "mimetype": "text/x-python",
   "name": "python",
   "nbconvert_exporter": "python",
   "pygments_lexer": "ipython3",
   "version": "3.7.1"
  }
 },
 "nbformat": 4,
 "nbformat_minor": 2
}
